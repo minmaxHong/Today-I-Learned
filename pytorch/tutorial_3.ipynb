{
 "cells": [
  {
   "cell_type": "code",
   "execution_count": 16,
   "metadata": {},
   "outputs": [],
   "source": [
    "import os\n",
    "import torch\n",
    "from torch import nn\n",
    "from torch.utils.data import DataLoader\n",
    "from torchvision import datasets, transforms"
   ]
  },
  {
   "cell_type": "code",
   "execution_count": 5,
   "metadata": {},
   "outputs": [
    {
     "name": "stdout",
     "output_type": "stream",
     "text": [
      "cuda\n"
     ]
    }
   ],
   "source": [
    "device = 'cuda' if torch.cuda.is_available() else 'cpu'\n",
    "print(device)"
   ]
  },
  {
   "cell_type": "code",
   "execution_count": 19,
   "metadata": {},
   "outputs": [],
   "source": [
    "class NeuralNetwork(nn.Module):\n",
    "    def __init__(self):\n",
    "        super().__init__()\n",
    "        self.flatten = nn.Flatten()\n",
    "        self.linear_relu_stack = nn.Sequential(\n",
    "            nn.Linear(28*28, 512),\n",
    "            nn.ReLU(),\n",
    "            \n",
    "            nn.Linear(512, 512),\n",
    "            nn.ReLU(),\n",
    "\n",
    "            nn.Linear(512, 10)\n",
    "        )\n",
    "    \n",
    "    def forward(self, x):\n",
    "        x = self.flatten(x)\n",
    "        logits = self.linear_relu_stack(x)\n",
    "        return logits"
   ]
  },
  {
   "cell_type": "code",
   "execution_count": 20,
   "metadata": {},
   "outputs": [
    {
     "name": "stdout",
     "output_type": "stream",
     "text": [
      "NeuralNetwork(\n",
      "  (flatten): Flatten(start_dim=1, end_dim=-1)\n",
      "  (linear_relu_stack): Sequential(\n",
      "    (0): Linear(in_features=784, out_features=512, bias=True)\n",
      "    (1): ReLU()\n",
      "    (2): Linear(in_features=512, out_features=512, bias=True)\n",
      "    (3): ReLU()\n",
      "    (4): Linear(in_features=512, out_features=10, bias=True)\n",
      "  )\n",
      ")\n"
     ]
    }
   ],
   "source": [
    "model = NeuralNetwork().to(device)\n",
    "print(model)"
   ]
  },
  {
   "cell_type": "code",
   "execution_count": 25,
   "metadata": {},
   "outputs": [
    {
     "name": "stdout",
     "output_type": "stream",
     "text": [
      "tensor([[0.0989, 0.1181, 0.0978, 0.0896, 0.1022, 0.1011, 0.1029, 0.0979, 0.0931,\n",
      "         0.0984]], device='cuda:0', grad_fn=<SoftmaxBackward0>)\n",
      "tensor([1], device='cuda:0')\n"
     ]
    }
   ],
   "source": [
    "X = torch.rand(1, 28, 28, device=device)\n",
    "logits = model(X)\n",
    "pred_probab = nn.Softmax(dim=1)(logits)\n",
    "\n",
    "print(pred_probab)\n",
    "y_pred = pred_probab.argmax(dim=1)\n",
    "\n",
    "print(y_pred)"
   ]
  },
  {
   "cell_type": "code",
   "execution_count": 32,
   "metadata": {},
   "outputs": [
    {
     "name": "stdout",
     "output_type": "stream",
     "text": [
      "torch.Size([3, 28, 28])\n",
      "torch.Size([3, 784])\n",
      "torch.Size([3, 20])\n",
      "before ReLU tensor([[-0.5910, -0.7167, -0.3618,  0.3209,  0.5378, -0.1044, -0.2542, -0.3182,\n",
      "          0.3971, -0.1201,  0.0933, -0.0684,  0.0223,  0.0213,  0.1676, -0.2781,\n",
      "          0.0162,  0.3423, -0.0207,  0.5020],\n",
      "        [-0.4686, -0.2836, -0.3087,  0.0722,  0.6546, -0.1088,  0.0632, -0.0391,\n",
      "          0.1100, -0.2157,  0.2325, -0.1165, -0.1078, -0.0205,  0.2766,  0.1024,\n",
      "         -0.0531,  0.1491, -0.0570,  0.4572],\n",
      "        [-0.6033, -0.8135, -0.2556,  0.4157,  0.4789, -0.0618,  0.1661, -0.3748,\n",
      "          0.3502, -0.4711,  0.2854, -0.3415, -0.1537,  0.1621, -0.0407,  0.1447,\n",
      "          0.1089,  0.3265, -0.3637,  0.4490]], grad_fn=<AddmmBackward0>)\n",
      "After ReLU tensor([[0.0000, 0.0000, 0.0000, 0.3209, 0.5378, 0.0000, 0.0000, 0.0000, 0.3971,\n",
      "         0.0000, 0.0933, 0.0000, 0.0223, 0.0213, 0.1676, 0.0000, 0.0162, 0.3423,\n",
      "         0.0000, 0.5020],\n",
      "        [0.0000, 0.0000, 0.0000, 0.0722, 0.6546, 0.0000, 0.0632, 0.0000, 0.1100,\n",
      "         0.0000, 0.2325, 0.0000, 0.0000, 0.0000, 0.2766, 0.1024, 0.0000, 0.1491,\n",
      "         0.0000, 0.4572],\n",
      "        [0.0000, 0.0000, 0.0000, 0.4157, 0.4789, 0.0000, 0.1661, 0.0000, 0.3502,\n",
      "         0.0000, 0.2854, 0.0000, 0.0000, 0.1621, 0.0000, 0.1447, 0.1089, 0.3265,\n",
      "         0.0000, 0.4490]], grad_fn=<ReluBackward0>)\n"
     ]
    }
   ],
   "source": [
    "# layer\n",
    "input_image = torch.rand(3, 28, 28)\n",
    "print(input_image.size())\n",
    "\n",
    "# nn.Flatten()\n",
    "flatten = nn.Flatten()\n",
    "flat_image = flatten(input_image)\n",
    "print(flat_image.size())\n",
    "\n",
    "# nn.Linear()\n",
    "layer1 = nn.Linear(28*28, 20)\n",
    "hidden1 = layer1(flat_image)\n",
    "print(hidden1.size()) # 출력 노드\n",
    "\n",
    "# nn.ReLU()\n",
    "print('before ReLU', hidden1)\n",
    "hidden1 = nn.ReLU()(hidden1)\n",
    "print('After ReLU', hidden1)"
   ]
  },
  {
   "cell_type": "code",
   "execution_count": 38,
   "metadata": {},
   "outputs": [
    {
     "name": "stdout",
     "output_type": "stream",
     "text": [
      "tensor([[0.1026, 0.1004, 0.0829, 0.0969, 0.1165, 0.1103, 0.1036, 0.0935, 0.0867,\n",
      "         0.1067],\n",
      "        [0.1010, 0.1023, 0.0689, 0.0969, 0.1043, 0.1264, 0.1246, 0.0775, 0.0863,\n",
      "         0.1118],\n",
      "        [0.1145, 0.0923, 0.0655, 0.0942, 0.1180, 0.1141, 0.1192, 0.0880, 0.0870,\n",
      "         0.1073]], grad_fn=<SoftmaxBackward0>)\n"
     ]
    }
   ],
   "source": [
    "# nn.Sequential\n",
    "seq_modules = nn.Sequential(\n",
    "    flatten,\n",
    "    layer1,\n",
    "    nn.ReLU(),\n",
    "    nn.Linear(20, 10)\n",
    ")\n",
    "\n",
    "input_image = torch.rand(3, 28, 28)\n",
    "logits = seq_modules(input_image)\n",
    "\n",
    "# nn.Softmax\n",
    "softmax = nn.Softmax(dim=1)\n",
    "pred_probab = softmax(logits)\n",
    "\n",
    "print(pred_probab) # batch마다의 softmax output"
   ]
  },
  {
   "cell_type": "code",
   "execution_count": null,
   "metadata": {},
   "outputs": [],
   "source": [
    "# 모델 매개변수\n",
    "print(f'Model struture: {model}\\n\\n')\n",
    "\n",
    "for name, param in model.named_parameters():\n",
    "    print(f'Layer: {name} | size: {param.size()} | Values: {param[:2]}\\n')"
   ]
  }
 ],
 "metadata": {
  "kernelspec": {
   "display_name": "Python 3",
   "language": "python",
   "name": "python3"
  },
  "language_info": {
   "codemirror_mode": {
    "name": "ipython",
    "version": 3
   },
   "file_extension": ".py",
   "mimetype": "text/x-python",
   "name": "python",
   "nbconvert_exporter": "python",
   "pygments_lexer": "ipython3",
   "version": "3.11.4"
  }
 },
 "nbformat": 4,
 "nbformat_minor": 2
}
